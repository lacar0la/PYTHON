{
  "nbformat": 4,
  "nbformat_minor": 0,
  "metadata": {
    "colab": {
      "provenance": []
    },
    "kernelspec": {
      "name": "python3",
      "display_name": "Python 3"
    },
    "language_info": {
      "name": "python"
    }
  },
  "cells": [
    {
      "cell_type": "markdown",
      "source": [
        "# Reto 10: Producto más caro de un carro de compras\n",
        "Catalina necesita llevar un mejor control de sus gastos cuando hace mercado. Para esto, ha decidido construir una aplicación para registrar cada producto que agregue en su carrito de compras. Estos datos son guardados en un diccionario cuyas llaves corresponden a los nombres de los productos. El valor asociado a cada llave es el precio del producto correspondiente.\n",
        "\n",
        "Cree una función que retorne el nombre del producto más costoso del carrito de compras. Si se encuentran dos productos igual de costosos (siendo los más costosos del carro), la función retorna el menor alfabéticamente. Por ejemplo, si los 'bananos' que compra Catalina costaran los mismo que las 'chocolatinas', la función retornaría 'bananos'  \n",
        "\n",
        "Su solución debe tener una función de acuerdo con la siguiente especificación: \n",
        "\n",
        "**Nombre de la función: producto_mas_costoso**\n",
        "\n",
        "Si lo requiere, puede agregar funciones adicionales."
      ],
      "metadata": {
        "id": "tnBUTeRG8oD3"
      }
    },
    {
      "cell_type": "code",
      "execution_count": null,
      "metadata": {
        "id": "LfljAGVu8njq"
      },
      "outputs": [],
      "source": [
        "def producto_mas_costoso(carrito_compras:dict)->str:\n",
        "    if carrito_compras == {}:\n",
        "        return \"No hay productos en el carrito\"\n",
        "\n",
        "    carrito_compras = sorted(carrito_compras.items())\n",
        "    mas_caro = 0\n",
        "   \n",
        "    \n",
        "    for clave, valor in carrito_compras:\n",
        "        if mas_caro <= valor:\n",
        "            mas_caro = valor\n",
        "            \n",
        "    for i in range (0,len(carrito_compras)):\n",
        "        if carrito_compras[i][1] == mas_caro:\n",
        "            mas_caro = carrito_compras[i][0]\n",
        "            break\n",
        "      \n",
        "    respuesta = mas_caro\n",
        "    \n",
        "   \n",
        "    return respuesta\n",
        "        "
      ]
    }
  ]
}